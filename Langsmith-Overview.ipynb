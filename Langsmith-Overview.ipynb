{
  "nbformat": 4,
  "nbformat_minor": 0,
  "metadata": {
    "colab": {
      "provenance": []
    },
    "kernelspec": {
      "name": "python3",
      "display_name": "Python 3"
    },
    "language_info": {
      "name": "python"
    }
  },
  "cells": [
    {
      "cell_type": "markdown",
      "source": [
        "## Install Dependencies"
      ],
      "metadata": {
        "id": "akazUCjEtGiV"
      }
    },
    {
      "cell_type": "code",
      "execution_count": 6,
      "metadata": {
        "colab": {
          "base_uri": "https://localhost:8080/"
        },
        "id": "CH54Tol0PGCH",
        "outputId": "aa78df69-426a-4fc9-f6af-e843ff4f9957"
      },
      "outputs": [
        {
          "output_type": "stream",
          "name": "stdout",
          "text": [
            "Requirement already satisfied: langchain_community in /usr/local/lib/python3.10/dist-packages (0.2.4)\n",
            "Requirement already satisfied: arxiv in /usr/local/lib/python3.10/dist-packages (2.1.0)\n",
            "Requirement already satisfied: pymupdf in /usr/local/lib/python3.10/dist-packages (1.24.5)\n",
            "Requirement already satisfied: openai in /usr/local/lib/python3.10/dist-packages (1.33.0)\n",
            "Requirement already satisfied: langsmith in /usr/local/lib/python3.10/dist-packages (0.1.75)\n",
            "Requirement already satisfied: langchain_core in /usr/local/lib/python3.10/dist-packages (0.2.5)\n",
            "Requirement already satisfied: langchain_openai in /usr/local/lib/python3.10/dist-packages (0.1.8)\n",
            "Requirement already satisfied: langchainhub in /usr/local/lib/python3.10/dist-packages (0.1.18)\n",
            "Collecting wikipedia\n",
            "  Using cached wikipedia-1.4.0.tar.gz (27 kB)\n",
            "  Preparing metadata (setup.py) ... \u001b[?25l\u001b[?25hdone\n",
            "Requirement already satisfied: PyYAML>=5.3 in /usr/local/lib/python3.10/dist-packages (from langchain_community) (6.0.1)\n",
            "Requirement already satisfied: SQLAlchemy<3,>=1.4 in /usr/local/lib/python3.10/dist-packages (from langchain_community) (2.0.30)\n",
            "Requirement already satisfied: aiohttp<4.0.0,>=3.8.3 in /usr/local/lib/python3.10/dist-packages (from langchain_community) (3.9.5)\n",
            "Requirement already satisfied: dataclasses-json<0.7,>=0.5.7 in /usr/local/lib/python3.10/dist-packages (from langchain_community) (0.6.6)\n",
            "Requirement already satisfied: langchain<0.3.0,>=0.2.0 in /usr/local/lib/python3.10/dist-packages (from langchain_community) (0.2.3)\n",
            "Requirement already satisfied: numpy<2,>=1 in /usr/local/lib/python3.10/dist-packages (from langchain_community) (1.25.2)\n",
            "Requirement already satisfied: requests<3,>=2 in /usr/local/lib/python3.10/dist-packages (from langchain_community) (2.31.0)\n",
            "Requirement already satisfied: tenacity<9.0.0,>=8.1.0 in /usr/local/lib/python3.10/dist-packages (from langchain_community) (8.3.0)\n",
            "Requirement already satisfied: feedparser==6.0.10 in /usr/local/lib/python3.10/dist-packages (from arxiv) (6.0.10)\n",
            "Requirement already satisfied: sgmllib3k in /usr/local/lib/python3.10/dist-packages (from feedparser==6.0.10->arxiv) (1.0.0)\n",
            "Requirement already satisfied: charset-normalizer<4,>=2 in /usr/local/lib/python3.10/dist-packages (from requests<3,>=2->langchain_community) (3.3.2)\n",
            "Requirement already satisfied: idna<4,>=2.5 in /usr/local/lib/python3.10/dist-packages (from requests<3,>=2->langchain_community) (3.7)\n",
            "Requirement already satisfied: urllib3<3,>=1.21.1 in /usr/local/lib/python3.10/dist-packages (from requests<3,>=2->langchain_community) (2.0.7)\n",
            "Requirement already satisfied: certifi>=2017.4.17 in /usr/local/lib/python3.10/dist-packages (from requests<3,>=2->langchain_community) (2024.6.2)\n",
            "Requirement already satisfied: PyMuPDFb==1.24.3 in /usr/local/lib/python3.10/dist-packages (from pymupdf) (1.24.3)\n",
            "Requirement already satisfied: anyio<5,>=3.5.0 in /usr/local/lib/python3.10/dist-packages (from openai) (3.7.1)\n",
            "Requirement already satisfied: distro<2,>=1.7.0 in /usr/lib/python3/dist-packages (from openai) (1.7.0)\n",
            "Requirement already satisfied: httpx<1,>=0.23.0 in /usr/local/lib/python3.10/dist-packages (from openai) (0.27.0)\n",
            "Requirement already satisfied: pydantic<3,>=1.9.0 in /usr/local/lib/python3.10/dist-packages (from openai) (2.7.3)\n",
            "Requirement already satisfied: sniffio in /usr/local/lib/python3.10/dist-packages (from openai) (1.3.1)\n",
            "Requirement already satisfied: tqdm>4 in /usr/local/lib/python3.10/dist-packages (from openai) (4.66.4)\n",
            "Requirement already satisfied: typing-extensions<5,>=4.7 in /usr/local/lib/python3.10/dist-packages (from openai) (4.12.1)\n",
            "Requirement already satisfied: orjson<4.0.0,>=3.9.14 in /usr/local/lib/python3.10/dist-packages (from langsmith) (3.10.3)\n",
            "Requirement already satisfied: jsonpatch<2.0,>=1.33 in /usr/local/lib/python3.10/dist-packages (from langchain_core) (1.33)\n",
            "Requirement already satisfied: packaging<24.0,>=23.2 in /usr/local/lib/python3.10/dist-packages (from langchain_core) (23.2)\n",
            "Requirement already satisfied: tiktoken<1,>=0.7 in /usr/local/lib/python3.10/dist-packages (from langchain_openai) (0.7.0)\n",
            "Requirement already satisfied: types-requests<3.0.0.0,>=2.31.0.2 in /usr/local/lib/python3.10/dist-packages (from langchainhub) (2.32.0.20240602)\n",
            "Requirement already satisfied: beautifulsoup4 in /usr/local/lib/python3.10/dist-packages (from wikipedia) (4.12.3)\n",
            "Requirement already satisfied: aiosignal>=1.1.2 in /usr/local/lib/python3.10/dist-packages (from aiohttp<4.0.0,>=3.8.3->langchain_community) (1.3.1)\n",
            "Requirement already satisfied: attrs>=17.3.0 in /usr/local/lib/python3.10/dist-packages (from aiohttp<4.0.0,>=3.8.3->langchain_community) (23.2.0)\n",
            "Requirement already satisfied: frozenlist>=1.1.1 in /usr/local/lib/python3.10/dist-packages (from aiohttp<4.0.0,>=3.8.3->langchain_community) (1.4.1)\n",
            "Requirement already satisfied: multidict<7.0,>=4.5 in /usr/local/lib/python3.10/dist-packages (from aiohttp<4.0.0,>=3.8.3->langchain_community) (6.0.5)\n",
            "Requirement already satisfied: yarl<2.0,>=1.0 in /usr/local/lib/python3.10/dist-packages (from aiohttp<4.0.0,>=3.8.3->langchain_community) (1.9.4)\n",
            "Requirement already satisfied: async-timeout<5.0,>=4.0 in /usr/local/lib/python3.10/dist-packages (from aiohttp<4.0.0,>=3.8.3->langchain_community) (4.0.3)\n",
            "Requirement already satisfied: exceptiongroup in /usr/local/lib/python3.10/dist-packages (from anyio<5,>=3.5.0->openai) (1.2.1)\n",
            "Requirement already satisfied: marshmallow<4.0.0,>=3.18.0 in /usr/local/lib/python3.10/dist-packages (from dataclasses-json<0.7,>=0.5.7->langchain_community) (3.21.3)\n",
            "Requirement already satisfied: typing-inspect<1,>=0.4.0 in /usr/local/lib/python3.10/dist-packages (from dataclasses-json<0.7,>=0.5.7->langchain_community) (0.9.0)\n",
            "Requirement already satisfied: httpcore==1.* in /usr/local/lib/python3.10/dist-packages (from httpx<1,>=0.23.0->openai) (1.0.5)\n",
            "Requirement already satisfied: h11<0.15,>=0.13 in /usr/local/lib/python3.10/dist-packages (from httpcore==1.*->httpx<1,>=0.23.0->openai) (0.14.0)\n",
            "Requirement already satisfied: jsonpointer>=1.9 in /usr/local/lib/python3.10/dist-packages (from jsonpatch<2.0,>=1.33->langchain_core) (2.4)\n",
            "Requirement already satisfied: langchain-text-splitters<0.3.0,>=0.2.0 in /usr/local/lib/python3.10/dist-packages (from langchain<0.3.0,>=0.2.0->langchain_community) (0.2.1)\n",
            "Requirement already satisfied: annotated-types>=0.4.0 in /usr/local/lib/python3.10/dist-packages (from pydantic<3,>=1.9.0->openai) (0.7.0)\n",
            "Requirement already satisfied: pydantic-core==2.18.4 in /usr/local/lib/python3.10/dist-packages (from pydantic<3,>=1.9.0->openai) (2.18.4)\n",
            "Requirement already satisfied: greenlet!=0.4.17 in /usr/local/lib/python3.10/dist-packages (from SQLAlchemy<3,>=1.4->langchain_community) (3.0.3)\n",
            "Requirement already satisfied: regex>=2022.1.18 in /usr/local/lib/python3.10/dist-packages (from tiktoken<1,>=0.7->langchain_openai) (2024.5.15)\n",
            "Requirement already satisfied: soupsieve>1.2 in /usr/local/lib/python3.10/dist-packages (from beautifulsoup4->wikipedia) (2.5)\n",
            "Requirement already satisfied: mypy-extensions>=0.3.0 in /usr/local/lib/python3.10/dist-packages (from typing-inspect<1,>=0.4.0->dataclasses-json<0.7,>=0.5.7->langchain_community) (1.0.0)\n",
            "Building wheels for collected packages: wikipedia\n",
            "  Building wheel for wikipedia (setup.py) ... \u001b[?25l\u001b[?25hdone\n",
            "  Created wheel for wikipedia: filename=wikipedia-1.4.0-py3-none-any.whl size=11680 sha256=1f19d52b5f714c9380355412a5bbcc3efd7f9810d9d6b75fd9d8410da33f0d86\n",
            "  Stored in directory: /root/.cache/pip/wheels/5e/b6/c5/93f3dec388ae76edc830cb42901bb0232504dfc0df02fc50de\n",
            "Successfully built wikipedia\n",
            "Installing collected packages: wikipedia\n",
            "Successfully installed wikipedia-1.4.0\n"
          ]
        }
      ],
      "source": [
        "!pip install langchain_community arxiv pymupdf openai langsmith langchain_core langchain_openai langchainhub wikipedia"
      ]
    },
    {
      "cell_type": "code",
      "source": [
        "import os\n",
        "from langchain_community.document_loaders import ArxivLoader\n",
        "from langsmith import Client\n",
        "import openai\n",
        "from langsmith.wrappers import wrap_openai\n",
        "from langsmith import traceable\n",
        "from langchain_core.output_parsers import StrOutputParser\n",
        "from langchain_core.prompts import ChatPromptTemplate\n",
        "from langchain_openai import ChatOpenAI\n",
        "from langsmith.schemas import Example, Run\n",
        "from langchain_core.pydantic_v1 import BaseModel, Field\n",
        "from langsmith.evaluation import LangChainStringEvaluator, evaluate\n",
        "from langchain.document_loaders import WikipediaLoader"
      ],
      "metadata": {
        "id": "Tk_Og0If-622"
      },
      "execution_count": 7,
      "outputs": []
    },
    {
      "cell_type": "markdown",
      "source": [
        "**Insert your OpenAI API key and Langsmith API key here before execution**"
      ],
      "metadata": {
        "id": "Jp-59fT2uXCq"
      }
    },
    {
      "cell_type": "markdown",
      "source": [
        "## Wikipedia Loader - Load movie plots"
      ],
      "metadata": {
        "id": "HkI3Rdx53IxM"
      }
    },
    {
      "cell_type": "code",
      "source": [
        "from langchain.document_loaders import WikipediaLoader\n",
        "\n",
        "movies_list = ['Harry Potter and the philosophers stone', 'Harry Potter and the chamber of secrets']\n",
        "\n",
        "movies = []\n",
        "\n",
        "for movie in movies_list:\n",
        "  loader = WikipediaLoader(query = movie, load_max_docs=1).load()\n",
        "  movies.extend(loader)\n",
        "\n",
        "movies"
      ],
      "metadata": {
        "id": "nqcZZBid3IPo",
        "colab": {
          "base_uri": "https://localhost:8080/"
        },
        "outputId": "92e76444-c3ca-436e-d4c2-5380327015c2"
      },
      "execution_count": 23,
      "outputs": [
        {
          "output_type": "execute_result",
          "data": {
            "text/plain": [
              "[Document(page_content='Harry Potter and the Philosopher\\'s Stone is a fantasy novel written by British author J. K. Rowling. The first novel in the Harry Potter series and Rowling\\'s debut novel, it follows Harry Potter, a young wizard who discovers his magical heritage on his eleventh birthday, when he receives a letter of acceptance to Hogwarts School of Witchcraft and Wizardry. Harry makes close friends and a few enemies during his first year at the school and with the help of his friends, Ron Weasley and Hermione Granger, he faces an attempted comeback by the dark wizard Lord Voldemort, who killed Harry\\'s parents, but failed to kill Harry when he was just 15 months old.\\nThe book was first published in the United Kingdom on 26 June 1997 by Bloomsbury. It was published in the United States the following year by Scholastic Corporation under the title Harry Potter and the Sorcerer\\'s Stone. It won most of the British book awards that were judged by children and other awards in the US. The book reached the top of the New York Times list of best-selling fiction in August 1999, and stayed near the top of that list for much of 1999 and 2000. It has been translated into at least 73 other languages, and has been made into a feature-length film of the same name, as have all six of its sequels. The novel has sold in excess of 120 million copies, making it the fourth best-selling book of all time.\\nMost reviews were very favourable, commenting on Rowling\\'s imagination, humour, simple, direct style and clever plot construction, although a few complained that the final chapters seemed rushed. The writing has been compared to that of Jane Austen, one of Rowling\\'s favourite authors; Roald Dahl, whose works dominated children\\'s stories before the appearance of Harry Potter; and the ancient Greek story-teller Homer. While some commentators thought the book looked backwards to Victorian and Edwardian boarding school stories, others thought it placed the genre firmly in the modern world by featuring contemporary ethical and social issues, as well as overcoming obstacles like bullying.\\nThe Harry Potter series has been used as a source of object lessons in educational techniques, sociological analysis and marketing.\\n\\n\\n== Plot ==\\nHarry Potter lives with his neglectful uncle and aunt, Vernon and Petunia Dursley, and their bullying son, Dudley. On Harry\\'s eleventh birthday, Rubeus Hagrid, a half-giant, delivers an acceptance letter from Hogwarts School of Witchcraft and Wizardry, revealing that Harry\\'s parents, James and Lily Potter, were wizards. When Harry was just a year old, a powerful but malevolent dark wizard named Lord Voldemort murdered his parents; Harry survived Voldemort\\'s killing curse that rebounded and seemingly destroyed the Dark Lord, leaving a lightning bolt-shaped scar on Harry\\'s forehead. Unknown to Harry, this act made him famous in the wizarding world.\\nHagrid escorts Harry to Diagon Alley, the hidden wizard commerce and retail section in London. Harry\\'s parents have left him a fortune kept in Gringotts Wizarding Bank, which he uses to buy school supplies and a wand from Ollivander\\'s. The cores of Harry and Lord Voldemort\\'s wands have feathers from the same phoenix bird, making them \"brothers\". Hagrid gifts Harry an owl, whom he names as Hedwig, as a birthday present. A month later, Harry boards the Hogwarts Express at King\\'s Cross railway station\\'s secret Platform 9+3⁄4. En route to Hogwarts, Harry befriends fellow first year Ron Weasley and meets Hermione Granger, whom the two boys initially dislike.\\nHarry runs afoul of Draco Malfoy, the spoiled son of a prominent wizard. At Hogwarts, a magical Sorting Hat sorts the first years among four school Houses (Gryffindor, Hufflepuff, Ravenclaw, and Slytherin) that best suit their personalities and talents. Draco joins Slytherin, known for producing dark wizards, while Harry, Ron, and Hermione are sorted into Gryffindor.\\nHarry\\'s broomstick flying ability earns him a place on the Gryffindor Quidditch team as th', metadata={'title': \"Harry Potter and the Philosopher's Stone\", 'summary': \"Harry Potter and the Philosopher's Stone is a fantasy novel written by British author J. K. Rowling. The first novel in the Harry Potter series and Rowling's debut novel, it follows Harry Potter, a young wizard who discovers his magical heritage on his eleventh birthday, when he receives a letter of acceptance to Hogwarts School of Witchcraft and Wizardry. Harry makes close friends and a few enemies during his first year at the school and with the help of his friends, Ron Weasley and Hermione Granger, he faces an attempted comeback by the dark wizard Lord Voldemort, who killed Harry's parents, but failed to kill Harry when he was just 15 months old.\\nThe book was first published in the United Kingdom on 26 June 1997 by Bloomsbury. It was published in the United States the following year by Scholastic Corporation under the title Harry Potter and the Sorcerer's Stone. It won most of the British book awards that were judged by children and other awards in the US. The book reached the top of the New York Times list of best-selling fiction in August 1999, and stayed near the top of that list for much of 1999 and 2000. It has been translated into at least 73 other languages, and has been made into a feature-length film of the same name, as have all six of its sequels. The novel has sold in excess of 120 million copies, making it the fourth best-selling book of all time.\\nMost reviews were very favourable, commenting on Rowling's imagination, humour, simple, direct style and clever plot construction, although a few complained that the final chapters seemed rushed. The writing has been compared to that of Jane Austen, one of Rowling's favourite authors; Roald Dahl, whose works dominated children's stories before the appearance of Harry Potter; and the ancient Greek story-teller Homer. While some commentators thought the book looked backwards to Victorian and Edwardian boarding school stories, others thought it placed the genre firmly in the modern world by featuring contemporary ethical and social issues, as well as overcoming obstacles like bullying.\\nThe Harry Potter series has been used as a source of object lessons in educational techniques, sociological analysis and marketing.\\n\\n\", 'source': 'https://en.wikipedia.org/wiki/Harry_Potter_and_the_Philosopher%27s_Stone'}),\n",
              " Document(page_content='Harry Potter and the Chamber of Secrets is a fantasy novel written by British author J. K. Rowling and the second novel in the Harry Potter series. The plot follows Harry\\'s second year at Hogwarts School of Witchcraft and Wizardry, during which a series of messages on the walls of the school\\'s corridors warn that the \"Chamber of Secrets\" has been opened and that the \"heir of Slytherin\" would kill all pupils who do not come from all-magical families. These threats are found after attacks that leave residents of the school petrified. Throughout the year, Harry and his friends Ron and Hermione investigate the attacks.\\nThe book was published in the United Kingdom on 2 July 1998 by Bloomsbury and later in the United States on 2 June 1999 by Scholastic Inc. Although Rowling says she found it difficult to finish the book, it won high praise and awards from critics, young readers, and the book industry, although some critics thought the story was perhaps too frightening for younger children. Much like with other novels in the series, Harry Potter and the Chamber of Secrets triggered religious debates; some religious authorities have condemned its use of magical themes, whereas others have praised its emphasis on self-sacrifice and the way one\\'s character is the result of one\\'s choices.\\nSeveral commentators have noted that personal identity is a strong theme in the book and that it addresses issues of racism through the treatment of non-human, non-magical, and non-living people. Some commentators regard the story\\'s diary that writes back as a warning against uncritical acceptance of information from sources whose motives and reliability cannot be checked. Institutional authority is portrayed as self-serving and incompetent.\\nThe film adaptation of the novel, released in 2002, became (at the time) the fifth highest-grossing film ever and received generally favourable reviews. Video games loosely based on Harry Potter and the Chamber of Secrets were also released for several platforms, and most obtained favourable reviews.\\n\\n\\n== Plot ==\\nWhile spending the summer at the Dursleys, twelve-year-old Harry Potter is visited by Dobby, a house-elf. He says Harry is in danger and must not return to Hogwarts. Harry refuses, so Dobby magically ruins Aunt Petunia and Uncle Vernon\\'s dinner party. Unaware of Dobby\\'s visit, a furious Uncle Vernon locks Harry in his room. The Ministry of Magic sends a notice accusing Harry of performing underage magic and threatening dismissal from Hogwarts.\\nThe three Weasley brothers, Ron, Fred and George, arrive in their father\\'s flying Ford Anglia and rescue Harry, taking him to their home. Harry and the Weasley family travel to Diagon Alley for school supplies. They run into Hermione Granger and meet Lucius Malfoy, father of Draco, and also Gilderoy Lockhart, a conceited autobiographer and adventurer who is the new Defence Against the Dark Arts professor. At King\\'s Cross station, Harry and Ron cannot enter Platform 9¾ and miss the Hogwarts Express. They fly in Mr Weasley\\'s car to Hogwarts, crashing into the Whomping Willow on school grounds and damaging Ron\\'s wand. The car then escapes into the forest.\\nLater, Harry is the only one who hears a strange voice emanating from the castle walls. Soon after, Mr Filch\\'s cat, Mrs Norris, is found petrified, along with a bloody warning scrawled on a wall: \"The Chamber of Secrets has been opened. Enemies of the heir, beware\". Salazar Slytherin, one of the school\\'s founders, created the Chamber after a dispute with fellow founders on admitting Muggle-born students. Some in the wizarding community disdain Muggle-born wizards like Hermione, believing pure-bloods are superior. The Chamber supposedly houses a monster that only the Heir of Slytherin can control.\\nDuring a Quidditch game, a rogue Bludger strikes Harry, breaking his arm. Lockhart blunders an attempt to repair it, sending Harry to the hospital overnight. Dobby visits Harry and reveals he jinxed the Bludger and sealed the p', metadata={'title': 'Harry Potter and the Chamber of Secrets', 'summary': 'Harry Potter and the Chamber of Secrets is a fantasy novel written by British author J. K. Rowling and the second novel in the Harry Potter series. The plot follows Harry\\'s second year at Hogwarts School of Witchcraft and Wizardry, during which a series of messages on the walls of the school\\'s corridors warn that the \"Chamber of Secrets\" has been opened and that the \"heir of Slytherin\" would kill all pupils who do not come from all-magical families. These threats are found after attacks that leave residents of the school petrified. Throughout the year, Harry and his friends Ron and Hermione investigate the attacks.\\nThe book was published in the United Kingdom on 2 July 1998 by Bloomsbury and later in the United States on 2 June 1999 by Scholastic Inc. Although Rowling says she found it difficult to finish the book, it won high praise and awards from critics, young readers, and the book industry, although some critics thought the story was perhaps too frightening for younger children. Much like with other novels in the series, Harry Potter and the Chamber of Secrets triggered religious debates; some religious authorities have condemned its use of magical themes, whereas others have praised its emphasis on self-sacrifice and the way one\\'s character is the result of one\\'s choices.\\nSeveral commentators have noted that personal identity is a strong theme in the book and that it addresses issues of racism through the treatment of non-human, non-magical, and non-living people. Some commentators regard the story\\'s diary that writes back as a warning against uncritical acceptance of information from sources whose motives and reliability cannot be checked. Institutional authority is portrayed as self-serving and incompetent.\\nThe film adaptation of the novel, released in 2002, became (at the time) the fifth highest-grossing film ever and received generally favourable reviews. Video games loosely based on Harry Potter and the Chamber of Secrets were also released for several platforms, and most obtained favourable reviews.', 'source': 'https://en.wikipedia.org/wiki/Harry_Potter_and_the_Chamber_of_Secrets'})]"
            ]
          },
          "metadata": {},
          "execution_count": 23
        }
      ]
    },
    {
      "cell_type": "markdown",
      "source": [
        "# Create Dataset"
      ],
      "metadata": {
        "id": "GJr_5fCUhDQW"
      }
    },
    {
      "cell_type": "code",
      "source": [
        "from langsmith import Client\n",
        "\n",
        "client = Client()\n",
        "\n",
        "dataset_name = \"Movies_summary_generator\"\n",
        "\n",
        "dataset = client.create_dataset(dataset_name = dataset_name, description = 'Movies to summarize',)"
      ],
      "metadata": {
        "id": "pF28W82_Vwoo"
      },
      "execution_count": 26,
      "outputs": []
    },
    {
      "cell_type": "code",
      "source": [
        "inputs = [m.page_content for m in movies]\n",
        "\n",
        "inputs"
      ],
      "metadata": {
        "colab": {
          "base_uri": "https://localhost:8080/"
        },
        "id": "KMhMm2aKkaxv",
        "outputId": "4311f608-0875-4457-dd6b-ec9dd465079c"
      },
      "execution_count": 28,
      "outputs": [
        {
          "output_type": "execute_result",
          "data": {
            "text/plain": [
              "['Harry Potter and the Philosopher\\'s Stone is a fantasy novel written by British author J. K. Rowling. The first novel in the Harry Potter series and Rowling\\'s debut novel, it follows Harry Potter, a young wizard who discovers his magical heritage on his eleventh birthday, when he receives a letter of acceptance to Hogwarts School of Witchcraft and Wizardry. Harry makes close friends and a few enemies during his first year at the school and with the help of his friends, Ron Weasley and Hermione Granger, he faces an attempted comeback by the dark wizard Lord Voldemort, who killed Harry\\'s parents, but failed to kill Harry when he was just 15 months old.\\nThe book was first published in the United Kingdom on 26 June 1997 by Bloomsbury. It was published in the United States the following year by Scholastic Corporation under the title Harry Potter and the Sorcerer\\'s Stone. It won most of the British book awards that were judged by children and other awards in the US. The book reached the top of the New York Times list of best-selling fiction in August 1999, and stayed near the top of that list for much of 1999 and 2000. It has been translated into at least 73 other languages, and has been made into a feature-length film of the same name, as have all six of its sequels. The novel has sold in excess of 120 million copies, making it the fourth best-selling book of all time.\\nMost reviews were very favourable, commenting on Rowling\\'s imagination, humour, simple, direct style and clever plot construction, although a few complained that the final chapters seemed rushed. The writing has been compared to that of Jane Austen, one of Rowling\\'s favourite authors; Roald Dahl, whose works dominated children\\'s stories before the appearance of Harry Potter; and the ancient Greek story-teller Homer. While some commentators thought the book looked backwards to Victorian and Edwardian boarding school stories, others thought it placed the genre firmly in the modern world by featuring contemporary ethical and social issues, as well as overcoming obstacles like bullying.\\nThe Harry Potter series has been used as a source of object lessons in educational techniques, sociological analysis and marketing.\\n\\n\\n== Plot ==\\nHarry Potter lives with his neglectful uncle and aunt, Vernon and Petunia Dursley, and their bullying son, Dudley. On Harry\\'s eleventh birthday, Rubeus Hagrid, a half-giant, delivers an acceptance letter from Hogwarts School of Witchcraft and Wizardry, revealing that Harry\\'s parents, James and Lily Potter, were wizards. When Harry was just a year old, a powerful but malevolent dark wizard named Lord Voldemort murdered his parents; Harry survived Voldemort\\'s killing curse that rebounded and seemingly destroyed the Dark Lord, leaving a lightning bolt-shaped scar on Harry\\'s forehead. Unknown to Harry, this act made him famous in the wizarding world.\\nHagrid escorts Harry to Diagon Alley, the hidden wizard commerce and retail section in London. Harry\\'s parents have left him a fortune kept in Gringotts Wizarding Bank, which he uses to buy school supplies and a wand from Ollivander\\'s. The cores of Harry and Lord Voldemort\\'s wands have feathers from the same phoenix bird, making them \"brothers\". Hagrid gifts Harry an owl, whom he names as Hedwig, as a birthday present. A month later, Harry boards the Hogwarts Express at King\\'s Cross railway station\\'s secret Platform 9+3⁄4. En route to Hogwarts, Harry befriends fellow first year Ron Weasley and meets Hermione Granger, whom the two boys initially dislike.\\nHarry runs afoul of Draco Malfoy, the spoiled son of a prominent wizard. At Hogwarts, a magical Sorting Hat sorts the first years among four school Houses (Gryffindor, Hufflepuff, Ravenclaw, and Slytherin) that best suit their personalities and talents. Draco joins Slytherin, known for producing dark wizards, while Harry, Ron, and Hermione are sorted into Gryffindor.\\nHarry\\'s broomstick flying ability earns him a place on the Gryffindor Quidditch team as th',\n",
              " 'Harry Potter and the Chamber of Secrets is a fantasy novel written by British author J. K. Rowling and the second novel in the Harry Potter series. The plot follows Harry\\'s second year at Hogwarts School of Witchcraft and Wizardry, during which a series of messages on the walls of the school\\'s corridors warn that the \"Chamber of Secrets\" has been opened and that the \"heir of Slytherin\" would kill all pupils who do not come from all-magical families. These threats are found after attacks that leave residents of the school petrified. Throughout the year, Harry and his friends Ron and Hermione investigate the attacks.\\nThe book was published in the United Kingdom on 2 July 1998 by Bloomsbury and later in the United States on 2 June 1999 by Scholastic Inc. Although Rowling says she found it difficult to finish the book, it won high praise and awards from critics, young readers, and the book industry, although some critics thought the story was perhaps too frightening for younger children. Much like with other novels in the series, Harry Potter and the Chamber of Secrets triggered religious debates; some religious authorities have condemned its use of magical themes, whereas others have praised its emphasis on self-sacrifice and the way one\\'s character is the result of one\\'s choices.\\nSeveral commentators have noted that personal identity is a strong theme in the book and that it addresses issues of racism through the treatment of non-human, non-magical, and non-living people. Some commentators regard the story\\'s diary that writes back as a warning against uncritical acceptance of information from sources whose motives and reliability cannot be checked. Institutional authority is portrayed as self-serving and incompetent.\\nThe film adaptation of the novel, released in 2002, became (at the time) the fifth highest-grossing film ever and received generally favourable reviews. Video games loosely based on Harry Potter and the Chamber of Secrets were also released for several platforms, and most obtained favourable reviews.\\n\\n\\n== Plot ==\\nWhile spending the summer at the Dursleys, twelve-year-old Harry Potter is visited by Dobby, a house-elf. He says Harry is in danger and must not return to Hogwarts. Harry refuses, so Dobby magically ruins Aunt Petunia and Uncle Vernon\\'s dinner party. Unaware of Dobby\\'s visit, a furious Uncle Vernon locks Harry in his room. The Ministry of Magic sends a notice accusing Harry of performing underage magic and threatening dismissal from Hogwarts.\\nThe three Weasley brothers, Ron, Fred and George, arrive in their father\\'s flying Ford Anglia and rescue Harry, taking him to their home. Harry and the Weasley family travel to Diagon Alley for school supplies. They run into Hermione Granger and meet Lucius Malfoy, father of Draco, and also Gilderoy Lockhart, a conceited autobiographer and adventurer who is the new Defence Against the Dark Arts professor. At King\\'s Cross station, Harry and Ron cannot enter Platform 9¾ and miss the Hogwarts Express. They fly in Mr Weasley\\'s car to Hogwarts, crashing into the Whomping Willow on school grounds and damaging Ron\\'s wand. The car then escapes into the forest.\\nLater, Harry is the only one who hears a strange voice emanating from the castle walls. Soon after, Mr Filch\\'s cat, Mrs Norris, is found petrified, along with a bloody warning scrawled on a wall: \"The Chamber of Secrets has been opened. Enemies of the heir, beware\". Salazar Slytherin, one of the school\\'s founders, created the Chamber after a dispute with fellow founders on admitting Muggle-born students. Some in the wizarding community disdain Muggle-born wizards like Hermione, believing pure-bloods are superior. The Chamber supposedly houses a monster that only the Heir of Slytherin can control.\\nDuring a Quidditch game, a rogue Bludger strikes Harry, breaking his arm. Lockhart blunders an attempt to repair it, sending Harry to the hospital overnight. Dobby visits Harry and reveals he jinxed the Bludger and sealed the p']"
            ]
          },
          "metadata": {},
          "execution_count": 28
        }
      ]
    },
    {
      "cell_type": "code",
      "source": [
        "client.create_examples(inputs = [{\n",
        "    \"text\": m\n",
        "} for m in inputs],\n",
        "dataset_id = dataset.id)"
      ],
      "metadata": {
        "id": "QxZvlGXVBwBk"
      },
      "execution_count": 29,
      "outputs": []
    },
    {
      "cell_type": "markdown",
      "source": [
        "## Generate tweets"
      ],
      "metadata": {
        "id": "JrVoqI8ttoTv"
      }
    },
    {
      "cell_type": "code",
      "source": [
        "# Generate tweet from movie plots using GPt-3..5-turbo\n",
        "system_tweet_instructions = (\n",
        "    \"\"\"You are an assistant that generates Tweets to summarise movie plots.\n",
        "    Ensure the summary: 1. has an engaging title. 2. Provides a bullet point list of main characters from the movie.\n",
        "    3. Utilises emojis 4. includes plot twist 5. highlights in one sentence the key point of the movie.\n",
        "    \"\"\"\n",
        ")\n",
        "\n",
        "human = \"Generate tweets for the following movie: {movie}\"\n",
        "prompt = ChatPromptTemplate.from_messages([(\"system\", system_tweet_instructions),(\"human\", human)])\n",
        "\n",
        "def predict_tweet_gpt_3(example: dict):\n",
        "  chat = ChatOpenAI(openai_api_key = os.getenv('OPENAI_API_KEY'), model = 'gpt-3.5-turbo')\n",
        "  tweet_generator_gpt_3 = prompt | chat | StrOutputParser()\n",
        "  response = tweet_generator_gpt_3.invoke({\"movie\":example[\"text\"]})\n",
        "  return {\"answer\": response}"
      ],
      "metadata": {
        "id": "FwMYR-ZlEo6x"
      },
      "execution_count": 30,
      "outputs": []
    },
    {
      "cell_type": "markdown",
      "source": [
        "## Evaluate Response and assign scores using GPT-4o"
      ],
      "metadata": {
        "id": "7SVVdXGVtxk_"
      }
    },
    {
      "cell_type": "code",
      "source": [
        "def answer_evaluator(run:Run, example: Example) -> dict:\n",
        "  input_text = example.inputs[\"text\"]\n",
        "  prediction = run.outputs[\"answer\"]\n",
        "\n",
        "  class GradeSummary(BaseModel):\n",
        "    score: int = Field(description = \"Answer meets criteria, score from 0 to 5\")\n",
        "\n",
        "  llm = ChatOpenAI(model = 'gpt-4o', temperature=0)\n",
        "  structured_llm_grader = llm.with_structured_output(GradeSummary)\n",
        "\n",
        "  system = \"\"\"\n",
        "  You are grading tweets for movie plot summary. Ensure that the Assistant's answer is engaging and meets the criteria,\n",
        "  Ensure the summary: 1. has an engaging title. 2. Provides a bullet point list of main characters from the movie.\n",
        "  3. Utilises emojis 4. includes plot twist 5. highlights the feedback 6. Includes hashtag\n",
        "  \"\"\"\n",
        "\n",
        "  grade_prompt = ChatPromptTemplate.from_messages(\n",
        "      [\n",
        "          (\"system\", system),\n",
        "          (\"human\", \"Assistant's answer for the movie summary: {prediction}\")\n",
        "      ]\n",
        "  )\n",
        "\n",
        "  answer_grader = grade_prompt | structured_llm_grader\n",
        "  score = answer_grader.invoke({\"prediction\": prediction})\n",
        "  return {\"key\": \"summary_engagement_score\", \"score\":int(score.score)}"
      ],
      "metadata": {
        "id": "QPiN6YdCCt2Q"
      },
      "execution_count": 56,
      "outputs": []
    },
    {
      "cell_type": "markdown",
      "source": [
        "## Track the results in Langsmith"
      ],
      "metadata": {
        "id": "VTln3oECt0NN"
      }
    },
    {
      "cell_type": "code",
      "source": [
        "from langsmith.evaluation import LangChainStringEvaluator, evaluate\n",
        "dataset_name = \"Movies_summary_generator\"\n",
        "\n",
        "experiment_results = evaluate(\n",
        "    predict_tweet_gpt_3,\n",
        "    data=dataset_name,\n",
        "    evaluators=[answer_evaluator],\n",
        "    experiment_prefix=\"summary-gpt3-turbo\",\n",
        "    metadata={\"variant\": \"movie summary tweet, gpt-3-turbo\"},\n",
        ")"
      ],
      "metadata": {
        "id": "KJeKWDF2HdOJ"
      },
      "execution_count": null,
      "outputs": []
    },
    {
      "cell_type": "markdown",
      "source": [
        "##Pairwise evaluation"
      ],
      "metadata": {
        "id": "BZuphE0zmTcK"
      }
    },
    {
      "cell_type": "code",
      "source": [
        "# Generate tweets with GPT-3.5 and GPT-4\n",
        "system_tweet_instructions = (\n",
        "    \"\"\"You are an assistant that generates Tweets to summarise movie plots.\n",
        "    Ensure the summary: 1. has an engaging title. 2. Provides a bullet point list of main characters and the role of each character in the movie.\n",
        "    3. Narrates the entire story in 3 lines 4. Utilises emojis 5. includes plot twist 6. Highlights one or two feedback about the movie\n",
        "    \"\"\"\n",
        ")\n",
        "\n",
        "human = \"Generate tweets for the following movie: {movie}\"\n",
        "prompt = ChatPromptTemplate.from_messages([(\"system\", system_tweet_instructions),(\"human\", human)])\n",
        "\n",
        "def predict_tweet_gpt_3(example: dict):\n",
        "  chat = ChatOpenAI(openai_api_key = os.getenv('OPENAI_API_KEY'), model = 'gpt-3.5-turbo')\n",
        "  tweet_generator_gpt_3 = prompt | chat | StrOutputParser()\n",
        "  response = tweet_generator_gpt_3.invoke({\"movie\":example[\"text\"]})\n",
        "  return {\"answer\": response}\n",
        "\n",
        "def predict_tweet_gpt_4(example: dict):\n",
        "  chat = ChatOpenAI(openai_api_key = os.getenv('OPENAI_API_KEY'), model = 'gpt-4-turbo')\n",
        "  tweet_generator_gpt_4 = prompt | chat | StrOutputParser()\n",
        "  response = tweet_generator_gpt_4.invoke({\"movie\":example[\"text\"]})\n",
        "  return {\"answer\": response}"
      ],
      "metadata": {
        "id": "d4cc8fPiHlAV"
      },
      "execution_count": 52,
      "outputs": []
    },
    {
      "cell_type": "code",
      "source": [
        "# Add experiment for both the models\n",
        "from langsmith.evaluation import LangChainStringEvaluator, evaluate\n",
        "dataset_name = \"Movies_summary_generator\"\n",
        "\n",
        "experiment_results = evaluate(\n",
        "    predict_tweet_gpt_3,\n",
        "    data=dataset_name,\n",
        "    evaluators=[answer_evaluator],\n",
        "    experiment_prefix=\"summary-gpt3-turbo\",\n",
        "    metadata={\"variant\": \"movie summary tweet, gpt-3-turbo\"},\n",
        ")\n",
        "\n",
        "experiment_results = evaluate(\n",
        "    predict_tweet_gpt_4,\n",
        "    data=dataset_name,\n",
        "    evaluators=[answer_evaluator],\n",
        "    experiment_prefix=\"summary-gpt4-turbo\",\n",
        "    metadata={\"variant\": \"movie summary tweet, gpt-4-turbo\"},\n",
        ")"
      ],
      "metadata": {
        "id": "MtM4nEr0Hly2"
      },
      "execution_count": null,
      "outputs": []
    },
    {
      "cell_type": "code",
      "source": [
        "# Pairwise evaluation between GPT-3.5 and GPT-4 using GPT-4o\n",
        "from langsmith.evaluation import evaluate_comparative\n",
        "from langchain import hub\n",
        "from langchain_openai import ChatOpenAI\n",
        "from langsmith.schemas import Run, Example\n",
        "import json\n",
        "\n",
        "\n",
        "def evaluate_pairwise(runs: list[Run], example: Example):\n",
        "    scores = {}\n",
        "\n",
        "    class GradeSummary(BaseModel):\n",
        "      score: int = Field(description = \"Answer meets criteria, score from 0 to 5\")\n",
        "\n",
        "    llm = ChatOpenAI(model = 'gpt-4o', temperature=0)\n",
        "\n",
        "    system = \"\"\"\n",
        "    Please act as an impartial judge and evaluate the quality of the responses provided by two AI assistants to the user question displayed below.\n",
        "    You should score both the assistants that\n",
        "    1. has an engaging title.\n",
        "    2. Provides a bullet point list of main characters from the movie.\n",
        "    3. Utilises emojis\n",
        "    4. includes plot twist\n",
        "    5. highlights the feedback\n",
        "    Avoid any position biases and ensure that the order in which the responses were presented does not influence your decision.\n",
        "    Do not allow the length of the responses to influence your evaluation. Do not favor certain names of the assistants. Be as objective as possible.\n",
        "    Your output should strictly be on a scale of 1 to 5 for both the assistants with the keys \"Score for Assistant 1\" for Assistant 1\n",
        "    and \"Score for Assistant 2\" for Assistant and your output should be in JSON format. Your output should not include any explanations.\n",
        "    \"\"\"\n",
        "\n",
        "    grade_prompt = ChatPromptTemplate.from_messages(\n",
        "        [\n",
        "            (\"system\", system),\n",
        "            (\"human\", \"[User Question] {question} \\n[The Start of Assistant A's Answer] {answer_a} [The End of Assistant A's Answer]\\nThe Start of Assistant B's Answer] {answer_b} [The End of Assistant B's Answer]\")\n",
        "            ])\n",
        "\n",
        "    runnable = grade_prompt | llm\n",
        "\n",
        "    response = runnable.invoke({\n",
        "        \"question\": example.inputs[\"text\"],\n",
        "        \"answer_a\": runs[0].outputs[\"answer\"] if runs[0].outputs is not None else \"N/A\",\n",
        "        \"answer_b\": runs[1].outputs[\"answer\"] if runs[1].outputs is not None else \"N/A\",\n",
        "    })\n",
        "    response = str(response.content)\n",
        "    json_response = eval(response)\n",
        "    scores[runs[0].id] = json_response[\"Score for Assistant 1\"]\n",
        "    scores[runs[1].id] = json_response[\"Score for Assistant 2\"]\n",
        "\n",
        "    return {\"key\": \"ranked_preference\", \"scores\": scores}\n",
        "\n",
        "\n",
        "evaluate_comparative(\n",
        "    # Replace the following array with the names or IDs of your experiments\n",
        "    [\"summary-gpt3-turbo-b0e727f2\", \"summary-gpt4-turbo-a19504ed\"],\n",
        "    evaluators=[evaluate_pairwise],\n",
        ")"
      ],
      "metadata": {
        "id": "BrmUmRVuGX_-"
      },
      "execution_count": null,
      "outputs": []
    }
  ]
}